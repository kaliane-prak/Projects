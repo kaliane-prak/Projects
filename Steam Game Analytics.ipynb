{
  "nbformat": 4,
  "nbformat_minor": 0,
  "metadata": {
    "colab": {
      "name": "Capstone 3 - Game",
      "provenance": [],
      "collapsed_sections": []
    },
    "kernelspec": {
      "name": "python3",
      "display_name": "Python 3"
    }
  },
  "cells": [
    {
      "cell_type": "code",
      "metadata": {
        "colab": {
          "base_uri": "https://localhost:8080/"
        },
        "id": "77syETNiTAQ7",
        "outputId": "ef47e5bb-1da3-47e2-d09a-67e292e66004"
      },
      "source": [
        "from google.colab import drive\r\n",
        "drive.flush_and_unmount() #makes sure we have fresh start\r\n",
        "drive.mount('/content/gdrive') #mount just normal directory of google drive\r\n",
        " \r\n",
        " \r\n",
        "from scipy import stats #t-tests, etc\r\n",
        "import seaborn as sns #graphs\r\n",
        "import matplotlib.pyplot as plt #\r\n",
        "import numpy as np\r\n",
        "import pandas as pd\r\n",
        "plt.style.use('seaborn')\r\n",
        " \r\n",
        "import warnings\r\n",
        "warnings.filterwarnings(\"ignore\")\r\n",
        "\r\n",
        "df = pd.read_csv('/content/gdrive/My Drive/Thinkful/steamgamesales.csv') "
      ],
      "execution_count": null,
      "outputs": [
        {
          "output_type": "stream",
          "text": [
            "Drive not mounted, so nothing to flush and unmount.\n",
            "Mounted at /content/gdrive\n"
          ],
          "name": "stdout"
        }
      ]
    },
    {
      "cell_type": "markdown",
      "metadata": {
        "id": "KPuMV6Huzh1w"
      },
      "source": [
        "**Title**: Steam Game Data <br> \r\n",
        "**Source**: data.world <br> <br>\r\n",
        "**Introduction**: Steam is a distrubution platform for pc games. It is one of the top platforms that players use to purchase and play games. It allows users to store games in its library without having to use too much computer memory.  I, myself, am a user of this platform. <br><br>\r\n",
        "**Goal**: I will be focusing on game prices, player count, and score/ratings in this project. This analysis will benefit potential developers who want to create a game and submit to Steam and for gamers who want to better understand the player base in relation to price and ratings. <br><br>\r\n",
        "**Hypotheses**:\r\n",
        "1.\tH₀ - There is no correlation between no. players and recommendation count <br>\r\n",
        "Hₐ - There is a correlation between no. players and recommendation count \r\n",
        "\r\n",
        "2.\tH₀ - Price does not affect the amount of players <br>\r\n",
        "Hₐ  - Price does affect the amount of players\r\n",
        "\r\n",
        "3.\tH₀ - There is no correlation between metacritic ratings and no. players?<br>\r\n",
        "Hₐ  - There is a correlation between metacritic ratings and no. players\r\n",
        "\r\n",
        "\r\n"
      ]
    },
    {
      "cell_type": "markdown",
      "metadata": {
        "id": "3inUygPLvwb2"
      },
      "source": [
        "Section 1: Clean up Data File"
      ]
    },
    {
      "cell_type": "code",
      "metadata": {
        "colab": {
          "base_uri": "https://localhost:8080/"
        },
        "id": "eWSFcdocYpFf",
        "outputId": "641fff8e-97ed-465e-ba4c-29b6d4b8a4ba"
      },
      "source": [
        "df.info()"
      ],
      "execution_count": null,
      "outputs": [
        {
          "output_type": "stream",
          "text": [
            "<class 'pandas.core.frame.DataFrame'>\n",
            "RangeIndex: 1741 entries, 0 to 1740\n",
            "Data columns (total 27 columns):\n",
            " #   Column                   Non-Null Count  Dtype  \n",
            "---  ------                   --------------  -----  \n",
            " 0   QueryID                  1741 non-null   int64  \n",
            " 1   QueryName                1741 non-null   object \n",
            " 2   ReleaseYear              1741 non-null   int64  \n",
            " 3   Metacritic               1741 non-null   int64  \n",
            " 4   RecommendationCount      1741 non-null   int64  \n",
            " 5   SteamSpyOwners           1741 non-null   int64  \n",
            " 6   SteamSpyPlayersEstimate  1741 non-null   int64  \n",
            " 7   PriceCurrency            1741 non-null   object \n",
            " 8   PriceFinal               1741 non-null   float64\n",
            " 9   SupportURL               1741 non-null   object \n",
            " 10  AboutText                1741 non-null   object \n",
            " 11  Background               1741 non-null   object \n",
            " 12  ShortDescrip             1741 non-null   object \n",
            " 13  DetailedDescrip          1741 non-null   object \n",
            " 14  DRMNotice                1741 non-null   object \n",
            " 15  ExtUserAcctNotice        1741 non-null   object \n",
            " 16  HeaderImage              1741 non-null   object \n",
            " 17  LegalNotice              1741 non-null   object \n",
            " 18  Reviews                  1741 non-null   object \n",
            " 19  SupportedLanguages       1741 non-null   object \n",
            " 20  Website                  1741 non-null   object \n",
            " 21  PCMinReqsText            1741 non-null   object \n",
            " 22  PCRecReqsText            1741 non-null   object \n",
            " 23  LinuxMinReqsText         1741 non-null   object \n",
            " 24  LinuxRecReqsText         1741 non-null   object \n",
            " 25  MacMinReqsText           1741 non-null   object \n",
            " 26  MacRecReqsText           1741 non-null   object \n",
            "dtypes: float64(1), int64(6), object(20)\n",
            "memory usage: 367.4+ KB\n"
          ],
          "name": "stdout"
        }
      ]
    },
    {
      "cell_type": "code",
      "metadata": {
        "colab": {
          "base_uri": "https://localhost:8080/",
          "height": 195
        },
        "id": "M2zC_eIIYsuO",
        "outputId": "8624dab9-2f12-44d0-ec15-649c36ee16a4"
      },
      "source": [
        "#Selecting only columns I need/will analyze\r\n",
        "df_new = df[['QueryID','QueryName','Metacritic','ReleaseYear','RecommendationCount','SteamSpyPlayersEstimate','PriceFinal']]\r\n",
        "df_new.head()"
      ],
      "execution_count": null,
      "outputs": [
        {
          "output_type": "execute_result",
          "data": {
            "text/html": [
              "<div>\n",
              "<style scoped>\n",
              "    .dataframe tbody tr th:only-of-type {\n",
              "        vertical-align: middle;\n",
              "    }\n",
              "\n",
              "    .dataframe tbody tr th {\n",
              "        vertical-align: top;\n",
              "    }\n",
              "\n",
              "    .dataframe thead th {\n",
              "        text-align: right;\n",
              "    }\n",
              "</style>\n",
              "<table border=\"1\" class=\"dataframe\">\n",
              "  <thead>\n",
              "    <tr style=\"text-align: right;\">\n",
              "      <th></th>\n",
              "      <th>QueryID</th>\n",
              "      <th>QueryName</th>\n",
              "      <th>Metacritic</th>\n",
              "      <th>ReleaseYear</th>\n",
              "      <th>RecommendationCount</th>\n",
              "      <th>SteamSpyPlayersEstimate</th>\n",
              "      <th>PriceFinal</th>\n",
              "    </tr>\n",
              "  </thead>\n",
              "  <tbody>\n",
              "    <tr>\n",
              "      <th>0</th>\n",
              "      <td>296910</td>\n",
              "      <td>8BitBoy</td>\n",
              "      <td>0</td>\n",
              "      <td>2014</td>\n",
              "      <td>1442</td>\n",
              "      <td>100077</td>\n",
              "      <td>3.99</td>\n",
              "    </tr>\n",
              "    <tr>\n",
              "      <th>1</th>\n",
              "      <td>219600</td>\n",
              "      <td>NBA 2K13</td>\n",
              "      <td>90</td>\n",
              "      <td>2012</td>\n",
              "      <td>451</td>\n",
              "      <td>100256</td>\n",
              "      <td>29.99</td>\n",
              "    </tr>\n",
              "    <tr>\n",
              "      <th>2</th>\n",
              "      <td>267920</td>\n",
              "      <td>Gun Metal</td>\n",
              "      <td>0</td>\n",
              "      <td>2014</td>\n",
              "      <td>450</td>\n",
              "      <td>100256</td>\n",
              "      <td>0.99</td>\n",
              "    </tr>\n",
              "    <tr>\n",
              "      <th>3</th>\n",
              "      <td>289690</td>\n",
              "      <td>Lara Croft and the Temple of Osiris</td>\n",
              "      <td>73</td>\n",
              "      <td>2014</td>\n",
              "      <td>872</td>\n",
              "      <td>100436</td>\n",
              "      <td>19.99</td>\n",
              "    </tr>\n",
              "    <tr>\n",
              "      <th>4</th>\n",
              "      <td>341190</td>\n",
              "      <td>Hotline Miami 2: Wrong Number Digital Comic</td>\n",
              "      <td>0</td>\n",
              "      <td>2015</td>\n",
              "      <td>0</td>\n",
              "      <td>100436</td>\n",
              "      <td>0.00</td>\n",
              "    </tr>\n",
              "  </tbody>\n",
              "</table>\n",
              "</div>"
            ],
            "text/plain": [
              "   QueryID  ... PriceFinal\n",
              "0   296910  ...       3.99\n",
              "1   219600  ...      29.99\n",
              "2   267920  ...       0.99\n",
              "3   289690  ...      19.99\n",
              "4   341190  ...       0.00\n",
              "\n",
              "[5 rows x 7 columns]"
            ]
          },
          "metadata": {
            "tags": []
          },
          "execution_count": 4
        }
      ]
    },
    {
      "cell_type": "code",
      "metadata": {
        "id": "Nt7MZvDgKQWe"
      },
      "source": [
        "#rename columns\r\n",
        "df_new = df_new.rename({'SteamSpyPlayersEstimate': 'Players', 'PriceFinal': 'Price'}, axis=1) "
      ],
      "execution_count": null,
      "outputs": []
    },
    {
      "cell_type": "code",
      "metadata": {
        "id": "VbvWgXAqc7R8"
      },
      "source": [
        "#Change object/ints into categorical variables\r\n",
        "df_new[\"QueryID\"] = df_new[\"QueryID\"].astype('category')\r\n",
        "df_new[\"QueryName\"] = df_new[\"QueryName\"].astype('category')\r\n",
        "df_new[\"ReleaseYear\"] = df_new[\"ReleaseYear\"].astype('category')"
      ],
      "execution_count": null,
      "outputs": []
    },
    {
      "cell_type": "code",
      "metadata": {
        "colab": {
          "base_uri": "https://localhost:8080/"
        },
        "id": "kPEDHKlD4gmg",
        "outputId": "b807f287-a5ef-4446-8c39-94118440772f"
      },
      "source": [
        "df_new.info()"
      ],
      "execution_count": null,
      "outputs": [
        {
          "output_type": "stream",
          "text": [
            "<class 'pandas.core.frame.DataFrame'>\n",
            "RangeIndex: 1741 entries, 0 to 1740\n",
            "Data columns (total 7 columns):\n",
            " #   Column               Non-Null Count  Dtype   \n",
            "---  ------               --------------  -----   \n",
            " 0   QueryID              1741 non-null   category\n",
            " 1   QueryName            1741 non-null   category\n",
            " 2   Metacritic           1741 non-null   int64   \n",
            " 3   ReleaseYear          1741 non-null   category\n",
            " 4   RecommendationCount  1741 non-null   int64   \n",
            " 5   Players              1741 non-null   int64   \n",
            " 6   Price                1741 non-null   float64 \n",
            "dtypes: category(3), float64(1), int64(3)\n",
            "memory usage: 250.6 KB\n"
          ],
          "name": "stdout"
        }
      ]
    },
    {
      "cell_type": "markdown",
      "metadata": {
        "id": "2dyzCoz1GUpH"
      },
      "source": [
        "**Hypothesis 1:** <br>\r\n",
        "H₀ - Price does not affect the amount of players<br>\r\n",
        "Hₐ - Price does affect the amount of players\r\n",
        "\r\n",
        "> Tests Used -Independent t-test"
      ]
    },
    {
      "cell_type": "code",
      "metadata": {
        "id": "WeRwpKkUw658"
      },
      "source": [
        "#Determine if there are any outliers that will affect results\r\n",
        "\r\n",
        "z = pd.DataFrame(df_new)\r\n",
        "df_new['z_score']=stats.zscore(df_new['Price'])\r\n",
        "\r\n",
        "z = pd.DataFrame(df_new)\r\n",
        "df_new['z_score_players']=stats.zscore(df_new['Players'])\r\n"
      ],
      "execution_count": null,
      "outputs": []
    },
    {
      "cell_type": "code",
      "metadata": {
        "colab": {
          "base_uri": "https://localhost:8080/"
        },
        "id": "tBgjQ0YVAC3G",
        "outputId": "0143ae16-c6b7-4b55-93fe-c2f3e1cbb3b3"
      },
      "source": [
        "#Remove Outliers\r\n",
        "df_new = df_new.loc[df_new['z_score'].abs()<=3] #3 is the standard threshold\r\n",
        "df_new = df_new.loc[df_new['z_score_players'].abs()<=3]\r\n",
        "df_new.info()"
      ],
      "execution_count": null,
      "outputs": [
        {
          "output_type": "stream",
          "text": [
            "<class 'pandas.core.frame.DataFrame'>\n",
            "Int64Index: 1694 entries, 0 to 1729\n",
            "Data columns (total 9 columns):\n",
            " #   Column               Non-Null Count  Dtype   \n",
            "---  ------               --------------  -----   \n",
            " 0   QueryID              1694 non-null   category\n",
            " 1   QueryName            1694 non-null   category\n",
            " 2   Metacritic           1694 non-null   int64   \n",
            " 3   ReleaseYear          1694 non-null   category\n",
            " 4   RecommendationCount  1694 non-null   int64   \n",
            " 5   Players              1694 non-null   int64   \n",
            " 6   Price                1694 non-null   float64 \n",
            " 7   z_score              1694 non-null   float64 \n",
            " 8   z_score_players      1694 non-null   float64 \n",
            "dtypes: category(3), float64(3), int64(3)\n",
            "memory usage: 288.4 KB\n"
          ],
          "name": "stdout"
        }
      ]
    },
    {
      "cell_type": "code",
      "metadata": {
        "colab": {
          "base_uri": "https://localhost:8080/"
        },
        "id": "gyL7n6rpmJiC",
        "outputId": "16c90169-7eee-48b3-af46-6bc8512586ba"
      },
      "source": [
        "#Determine the mean of prices\r\n",
        "\r\n",
        "df_new[\"Price\"].mean()"
      ],
      "execution_count": null,
      "outputs": [
        {
          "output_type": "execute_result",
          "data": {
            "text/plain": [
              "11.793642266824138"
            ]
          },
          "metadata": {
            "tags": []
          },
          "execution_count": 10
        }
      ]
    },
    {
      "cell_type": "code",
      "metadata": {
        "id": "9vxuaUm3ALA6"
      },
      "source": [
        "#Divide price group using the mean <12.00 vs >12.00\r\n",
        "lessthan12 = df_new.iloc[(df_new['Price'] < 12.00).values]\r\n",
        "greaterthan12 = df_new.iloc[(df_new['Price'] >= 12.00).values]"
      ],
      "execution_count": null,
      "outputs": []
    },
    {
      "cell_type": "code",
      "metadata": {
        "colab": {
          "base_uri": "https://localhost:8080/"
        },
        "id": "JrgWW5EdAPUE",
        "outputId": "1ac489e4-ed6c-48f3-b12d-f2537cec7e95"
      },
      "source": [
        "#Perform t-test\r\n",
        "stats.ttest_ind(lessthan12['Players'], greaterthan12['Players'])"
      ],
      "execution_count": null,
      "outputs": [
        {
          "output_type": "execute_result",
          "data": {
            "text/plain": [
              "Ttest_indResult(statistic=-4.40424579304227, pvalue=1.1280325014288446e-05)"
            ]
          },
          "metadata": {
            "tags": []
          },
          "execution_count": 12
        }
      ]
    },
    {
      "cell_type": "markdown",
      "metadata": {
        "id": "sVEgf36i1c4V"
      },
      "source": [
        "**Results:** The T-test shows a difference of 4.40 standard deviations between these two means. The p-value is small (<.05), which means there is a significant difference in the means of games that cost less than 12.00 and games that cost more than 12. We reject the null hypothesis that price of the game affects the amount of players\r\n"
      ]
    },
    {
      "cell_type": "markdown",
      "metadata": {
        "id": "IVsn4gQMFUOr"
      },
      "source": [
        " \r\n",
        "\r\n",
        "---\r\n",
        "\r\n"
      ]
    },
    {
      "cell_type": "markdown",
      "metadata": {
        "id": "PacO1_DkwUkp"
      },
      "source": [
        "**Hypothesis 2:** <br>\r\n",
        "H₀ - There is no correlation between no. players and recommendation count<br>\r\n",
        "Hₐ - There is a correlation between no. players and recommendation count\r\n",
        "\r\n",
        "> Test Used - Independent T-Test assuming unequal variances\r\n",
        "\r\n",
        "\r\n"
      ]
    },
    {
      "cell_type": "code",
      "metadata": {
        "id": "_qODSBvmwde5"
      },
      "source": [
        "#See if there are any outliers in recommendation count\r\n",
        "z = pd.DataFrame(df_new)\r\n",
        "df_new['z_score_recommendation']=stats.zscore(df_new['RecommendationCount'])"
      ],
      "execution_count": null,
      "outputs": []
    },
    {
      "cell_type": "code",
      "metadata": {
        "colab": {
          "base_uri": "https://localhost:8080/"
        },
        "id": "p4fbnnuoAYbd",
        "outputId": "ab8e4b0b-17c5-4742-935c-caa87dc50d66"
      },
      "source": [
        "#Remove outliers\r\n",
        "df_new = df_new.loc[df_new['z_score_recommendation'].abs()<=3]\r\n",
        "df_new.info()"
      ],
      "execution_count": null,
      "outputs": [
        {
          "output_type": "stream",
          "text": [
            "<class 'pandas.core.frame.DataFrame'>\n",
            "Int64Index: 1668 entries, 0 to 1724\n",
            "Data columns (total 10 columns):\n",
            " #   Column                  Non-Null Count  Dtype   \n",
            "---  ------                  --------------  -----   \n",
            " 0   QueryID                 1668 non-null   category\n",
            " 1   QueryName               1668 non-null   category\n",
            " 2   Metacritic              1668 non-null   int64   \n",
            " 3   ReleaseYear             1668 non-null   category\n",
            " 4   RecommendationCount     1668 non-null   int64   \n",
            " 5   Players                 1668 non-null   int64   \n",
            " 6   Price                   1668 non-null   float64 \n",
            " 7   z_score                 1668 non-null   float64 \n",
            " 8   z_score_players         1668 non-null   float64 \n",
            " 9   z_score_recommendation  1668 non-null   float64 \n",
            "dtypes: category(3), float64(4), int64(3)\n",
            "memory usage: 299.9 KB\n"
          ],
          "name": "stdout"
        }
      ]
    },
    {
      "cell_type": "code",
      "metadata": {
        "colab": {
          "base_uri": "https://localhost:8080/"
        },
        "id": "SrJdpaAyMTJZ",
        "outputId": "5c08cd65-9cfd-405e-8868-f6c3f1ab19d1"
      },
      "source": [
        "#Look for correlation between players and recommendation count\r\n",
        "df_new['Players'].corr(df_new['RecommendationCount'])"
      ],
      "execution_count": null,
      "outputs": [
        {
          "output_type": "execute_result",
          "data": {
            "text/plain": [
              "0.7578295407497575"
            ]
          },
          "metadata": {
            "tags": []
          },
          "execution_count": 15
        }
      ]
    },
    {
      "cell_type": "code",
      "metadata": {
        "colab": {
          "base_uri": "https://localhost:8080/"
        },
        "id": "0AkYYNMtNr-N",
        "outputId": "d3f88de8-e1a9-48fd-bb3f-3b6f7abb926a"
      },
      "source": [
        "#Look for correlation and p-value\r\n",
        "stats.pearsonr(df_new['Players'], df_new['RecommendationCount'])"
      ],
      "execution_count": null,
      "outputs": [
        {
          "output_type": "execute_result",
          "data": {
            "text/plain": [
              "(0.7578295407497573, 2.8173692146134e-311)"
            ]
          },
          "metadata": {
            "tags": []
          },
          "execution_count": 16
        }
      ]
    },
    {
      "cell_type": "code",
      "metadata": {
        "colab": {
          "base_uri": "https://localhost:8080/",
          "height": 386
        },
        "id": "tZnksy0wMD-Z",
        "outputId": "6364664f-6a39-4036-9ee2-d8c5244d5cf2"
      },
      "source": [
        "#Create scatterplot to graph correlation\r\n",
        "sns.scatterplot(x=\"RecommendationCount\",  y=\"Players\", color=\"Red\", data=df_new)\r\n",
        "ax=plt.axes()\r\n",
        "ax.set_title(\"Player Vs Recommendation Count\", fontsize=25)\r\n",
        "plt.show()"
      ],
      "execution_count": null,
      "outputs": [
        {
          "output_type": "display_data",
          "data": {
            "image/png": "[encoded data removed]",
            "text/plain": [
              "<Figure size 576x396 with 1 Axes>"
            ]
          },
          "metadata": {
            "tags": []
          }
        }
      ]
    },
    {
      "cell_type": "markdown",
      "metadata": {
        "id": "rLIPUfF8lVJ0"
      },
      "source": [
        "**Results**: There is a correlation between the amount of players vs the amount of recommendations the game has. The higher the amount of players, the greater number of recommendations. \r\n",
        "Pearson r shows a positive correlation of .73, which is greater than 0. The p-value is also significantly small. The smaller the p-value, the stronger the evidence that you should reject the null hypothesis\r\n",
        "\r\n",
        "\r\n",
        "\r\n",
        "\r\n",
        "---\r\n",
        "\r\n",
        "\r\n",
        "\r\n",
        "\r\n",
        "\r\n",
        "\r\n"
      ]
    },
    {
      "cell_type": "markdown",
      "metadata": {
        "id": "iRXZ884XiCm_"
      },
      "source": [
        "**Hypothesis 3:** <br>\r\n",
        "H₀ - There is no correlation between metacritic ratings and no. players<br>\r\n",
        "Hₐ  - There is a correlation between metacritic ratings and no. players\r\n",
        "\r\n",
        "> Tests Used - Pearsonr, Correlation Plot"
      ]
    },
    {
      "cell_type": "code",
      "metadata": {
        "colab": {
          "base_uri": "https://localhost:8080/"
        },
        "id": "TV1MpnY7Gj6U",
        "outputId": "9fddc78d-d1c2-46ea-d201-18c123601f5c"
      },
      "source": [
        "#Remove zero values from metacritic ratings \r\n",
        "#Check that those rows are removed\r\n",
        "df_new = df_new[df.Metacritic != 0]\r\n",
        "df_new[\"Metacritic\"].min()"
      ],
      "execution_count": null,
      "outputs": [
        {
          "output_type": "execute_result",
          "data": {
            "text/plain": [
              "33"
            ]
          },
          "metadata": {
            "tags": []
          },
          "execution_count": 18
        }
      ]
    },
    {
      "cell_type": "code",
      "metadata": {
        "colab": {
          "base_uri": "https://localhost:8080/"
        },
        "id": "kJ3MMIjvG3oO",
        "outputId": "2c2815e1-1f43-448a-defb-8375cbf68b4f"
      },
      "source": [
        "#Look for correlation between players and Metacritic rating\r\n",
        "stats.pearsonr(df_new['Players'],df_new['Metacritic'])"
      ],
      "execution_count": null,
      "outputs": [
        {
          "output_type": "execute_result",
          "data": {
            "text/plain": [
              "(0.23928586951243125, 1.5002362377158428e-13)"
            ]
          },
          "metadata": {
            "tags": []
          },
          "execution_count": 19
        }
      ]
    },
    {
      "cell_type": "code",
      "metadata": {
        "id": "fmbHR1NQCKt6"
      },
      "source": [
        ""
      ],
      "execution_count": null,
      "outputs": []
    },
    {
      "cell_type": "code",
      "metadata": {
        "colab": {
          "base_uri": "https://localhost:8080/",
          "height": 386
        },
        "id": "dKSEr9MXMEiT",
        "outputId": "286ff930-11d2-4185-a238-eca1a82ff373"
      },
      "source": [
        "#Create scatterplot to graph correlation\r\n",
        "sns.scatterplot(x=\"Metacritic\", y=\"Players\", color=\"Purple\",data=df_new)\r\n",
        "ax=plt.axes()\r\n",
        "ax.set_title(\"Player Vs Metacritic Rating\", fontsize=25)\r\n",
        "plt.show()\r\n",
        "\r\n"
      ],
      "execution_count": null,
      "outputs": [
        {
          "output_type": "display_data",
          "data": {
            "image/png": "[encoded data removed]",
            "text/plain": [
              "<Figure size 576x396 with 1 Axes>"
            ]
          },
          "metadata": {
            "tags": []
          }
        }
      ]
    },
    {
      "cell_type": "markdown",
      "metadata": {
        "id": "12JHSSqKG9xe"
      },
      "source": [
        "**Results:** Although the correlation is smaller than that of the recommendation count, there is still a positive correlation between the two. We reject the null that there is no correlation between metacritic ratings and amount of players. "
      ]
    },
    {
      "cell_type": "markdown",
      "metadata": {
        "id": "gxXM6q_T-dDJ"
      },
      "source": [
        "**Conclusion:**  According to the data, prices do affect the player base, and both metacritic ratings and recommendation counts have a positve correlation to number of players. I removed the outliers as it would have skewed the results. For example, the range of players go from 0-90Million. Only one game reached anything as high as 90Million. As I predicted, this game was free.  From this test, future developers and those interested in the gaming industry can see that a free game is the way to go, as users tend to spend a lot of money after they invest in the game. "
      ]
    },
    {
      "cell_type": "code",
      "metadata": {
        "id": "eD6Z9LxBn9It"
      },
      "source": [
        "\r\n"
      ],
      "execution_count": null,
      "outputs": []
    },
    {
      "cell_type": "code",
      "metadata": {
        "id": "Z5KEl7vvoCET"
      },
      "source": [
        ""
      ],
      "execution_count": null,
      "outputs": []
    }
  ]
}